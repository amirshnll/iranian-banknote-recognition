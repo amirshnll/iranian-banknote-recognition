{
 "cells": [
  {
   "cell_type": "code",
   "execution_count": null,
   "metadata": {},
   "outputs": [],
   "source": [
    "import cv2\n",
    "import numpy as np\n",
    "import matplotlib.pyplot as plt\n",
    "from itertools import permutations"
   ]
  },
  {
   "cell_type": "code",
   "execution_count": null,
   "metadata": {},
   "outputs": [],
   "source": [
    "kernel = np.ones((2, 2), dtype=np.uint8)\n",
    "plt.rcParams[\"figure.figsize\"] = (16, 16)  # Increase size of image\n",
    "image = cv2.imread(\"test.jpg\")  # Read the image"
   ]
  },
  {
   "cell_type": "code",
   "execution_count": null,
   "metadata": {},
   "outputs": [],
   "source": [
    "def gray_image(image):\n",
    "    gray = cv2.cvtColor(image, cv2.COLOR_BGR2GRAY)\n",
    "    return gray\n",
    "\n",
    "\n",
    "def blur_image(image):\n",
    "    blur = cv2.GaussianBlur(image, (5, 5), 0)\n",
    "    return blur\n",
    "\n",
    "\n",
    "def noise_removal(image):\n",
    "    noise_removal = cv2.dilate(image, kernel, iterations=2)\n",
    "    return noise_removal\n",
    "\n",
    "\n",
    "def edge_detection(image):\n",
    "    edge_detection = cv2.Canny(image, 100, 200)\n",
    "    return edge_detection\n",
    "\n",
    "\n",
    "def binary_image(image):\n",
    "    gray = cv2.cvtColor(image, cv2.COLOR_BGR2GRAY)\n",
    "    ret2, binary = cv2.threshold(gray, 0, 255, cv2.THRESH_BINARY + cv2.THRESH_OTSU)\n",
    "    return binary\n",
    "\n",
    "\n",
    "def invert_image(image):\n",
    "    invert = cv2.bitwise_not(image)\n",
    "    return invert"
   ]
  },
  {
   "cell_type": "code",
   "execution_count": null,
   "metadata": {},
   "outputs": [],
   "source": [
    "my_function = [\n",
    "    gray_image,\n",
    "    blur_image,\n",
    "    noise_removal,\n",
    "    edge_detection,\n",
    "    binary_image,\n",
    "    invert_image,\n",
    "]"
   ]
  },
  {
   "cell_type": "code",
   "execution_count": null,
   "metadata": {},
   "outputs": [],
   "source": [
    "my_perm = list(permutations(my_function))\n",
    "\n",
    "for i, list_func in enumerate(my_perm):\n",
    "    result = cv2.imread(\"test.jpeg\")  # Read the image\n",
    "    for index, func in enumerate(list_func):\n",
    "        try:\n",
    "            if index == 0:\n",
    "                result = func(image)\n",
    "            else:\n",
    "                result = func(result)\n",
    "        except:\n",
    "            continue\n",
    "    # save the images\n",
    "    my_name = str()\n",
    "    for i in map(str, list(list_func)):\n",
    "        my_name += i.split(\" \")[1]\n",
    "        my_name += \"_\"\n",
    "    cv2.imwrite(f\"{my_name}.jpg\", result)"
   ]
  }
 ],
 "metadata": {
  "kernelspec": {
   "display_name": "Python 3.8.10 64-bit",
   "language": "python",
   "name": "python3"
  },
  "language_info": {
   "codemirror_mode": {
    "name": "ipython",
    "version": 3
   },
   "file_extension": ".py",
   "mimetype": "text/x-python",
   "name": "python",
   "nbconvert_exporter": "python",
   "pygments_lexer": "ipython3",
   "version": "3.10.6"
  },
  "orig_nbformat": 4,
  "vscode": {
   "interpreter": {
    "hash": "916dbcbb3f70747c44a77c7bcd40155683ae19c65e1c03b4aa3499c5328201f1"
   }
  }
 },
 "nbformat": 4,
 "nbformat_minor": 2
}
