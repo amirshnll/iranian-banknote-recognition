{
 "cells": [
  {
   "cell_type": "code",
   "execution_count": null,
   "metadata": {},
   "outputs": [],
   "source": [
    "import cv2\n",
    "import numpy as np\n",
    "import matplotlib.pyplot as plt"
   ]
  },
  {
   "cell_type": "code",
   "execution_count": null,
   "metadata": {},
   "outputs": [],
   "source": [
    "image = cv2.imread(\"test.jpg\")  # Read the image\n",
    "gray = cv2.cvtColor(image, cv2.COLOR_BGR2GRAY)\n",
    "kernel = np.ones((2, 2), dtype=np.uint8)"
   ]
  },
  {
   "cell_type": "markdown",
   "metadata": {},
   "source": [
    "IGBLNI"
   ]
  },
  {
   "cell_type": "code",
   "execution_count": null,
   "metadata": {},
   "outputs": [],
   "source": [
    "imagem = cv2.bitwise_not(image)\n",
    "gray = cv2.cvtColor(imagem, cv2.COLOR_BGR2GRAY)\n",
    "ret2, binary = cv2.threshold(gray, 0, 255, cv2.THRESH_BINARY + cv2.THRESH_OTSU)\n",
    "blur = cv2.GaussianBlur(binary, (5, 5), 0)\n",
    "noise = cv2.dilate(blur, kernel, iterations=2)\n",
    "imageme = cv2.bitwise_not(noise)\n",
    "\n",
    "\n",
    "plt.rcParams[\"figure.figsize\"] = (16, 16)  # Increase size of image\n",
    "plt.subplot(121), plt.imshow(imageme, cmap=\"gray\"), plt.title(\"Final Image\")"
   ]
  },
  {
   "cell_type": "markdown",
   "metadata": {},
   "source": [
    "IGLBNI"
   ]
  },
  {
   "cell_type": "code",
   "execution_count": null,
   "metadata": {},
   "outputs": [],
   "source": [
    "imagem = cv2.bitwise_not(image)\n",
    "gray = cv2.cvtColor(imagem, cv2.COLOR_BGR2GRAY)\n",
    "blur = cv2.GaussianBlur(gray, (5, 5), 0)\n",
    "ret2, binary = cv2.threshold(blur, 0, 255, cv2.THRESH_BINARY + cv2.THRESH_OTSU)\n",
    "noise = cv2.dilate(binary, kernel, iterations=2)\n",
    "imageme = cv2.bitwise_not(noise)\n",
    "\n",
    "plt.rcParams[\"figure.figsize\"] = (16, 16)  # Increase size of image\n",
    "plt.subplot(121), plt.imshow(imageme, cmap=\"gray\"), plt.title(\"Final Image\")"
   ]
  },
  {
   "cell_type": "markdown",
   "metadata": {},
   "source": [
    "IGLNBI"
   ]
  },
  {
   "cell_type": "code",
   "execution_count": null,
   "metadata": {},
   "outputs": [],
   "source": [
    "imagem = cv2.bitwise_not(image)\n",
    "gray = cv2.cvtColor(imagem, cv2.COLOR_BGR2GRAY)\n",
    "blur = cv2.GaussianBlur(gray, (5, 5), 0)\n",
    "noise = cv2.dilate(blur, kernel, iterations=2)\n",
    "ret2, binary = cv2.threshold(noise, 0, 255, cv2.THRESH_BINARY + cv2.THRESH_OTSU)\n",
    "imageme = cv2.bitwise_not(binary)\n",
    "\n",
    "# TODO: mean filter (5,5), (7,7)\n",
    "# TODO: count rice in image processing example\n",
    "\n",
    "\n",
    "plt.subplot(121), plt.imshow(imageme, cmap=\"gray\"), plt.title(\"Final Image\")"
   ]
  }
 ],
 "metadata": {
  "kernelspec": {
   "display_name": "Python 3",
   "language": "python",
   "name": "python3"
  },
  "language_info": {
   "codemirror_mode": {
    "name": "ipython",
    "version": 3
   },
   "file_extension": ".py",
   "mimetype": "text/x-python",
   "name": "python",
   "nbconvert_exporter": "python",
   "pygments_lexer": "ipython3",
   "version": "3.11.1"
  },
  "orig_nbformat": 4,
  "vscode": {
   "interpreter": {
    "hash": "e397ed800564670b7e5cbb70a26a1c603ddc115843f555fdbcaeef3617fc010a"
   }
  }
 },
 "nbformat": 4,
 "nbformat_minor": 2
}
