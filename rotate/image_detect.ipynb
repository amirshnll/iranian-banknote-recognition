{
 "cells": [
  {
   "cell_type": "code",
   "execution_count": null,
   "metadata": {},
   "outputs": [],
   "source": [
    "import cv2\n",
    "import numpy as np\n",
    "import matplotlib.pyplot as plt"
   ]
  },
  {
   "cell_type": "code",
   "execution_count": null,
   "metadata": {},
   "outputs": [],
   "source": [
    "img = cv2.imread(\"test.jpg\")"
   ]
  },
  {
   "cell_type": "code",
   "execution_count": null,
   "metadata": {},
   "outputs": [],
   "source": [
    "kernel = np.ones((2, 2), dtype=np.uint8)\n",
    "imagem = cv2.bitwise_not(img)\n",
    "gray = cv2.cvtColor(imagem, cv2.COLOR_BGR2GRAY)\n",
    "ret2, binery = cv2.threshold(gray, 0, 255, cv2.THRESH_BINARY + cv2.THRESH_OTSU)\n",
    "blur = cv2.GaussianBlur(binery, (5, 5), 0)\n",
    "noise = cv2.dilate(blur, kernel, iterations=2)\n",
    "imageme = cv2.bitwise_not(noise)"
   ]
  },
  {
   "cell_type": "code",
   "execution_count": null,
   "metadata": {},
   "outputs": [],
   "source": [
    "plt.imshow(imageme, \"gray\")"
   ]
  },
  {
   "cell_type": "code",
   "execution_count": null,
   "metadata": {},
   "outputs": [],
   "source": [
    "cont, _ = cv2.findContours(imageme, cv2.RETR_EXTERNAL, cv2.CHAIN_APPROX_SIMPLE)"
   ]
  },
  {
   "cell_type": "code",
   "execution_count": null,
   "metadata": {},
   "outputs": [],
   "source": [
    "cont_img = cv2.drawContours(img, cont, -1, (0, 255, 0), 3)"
   ]
  },
  {
   "cell_type": "code",
   "execution_count": null,
   "metadata": {},
   "outputs": [],
   "source": [
    "c = max(cont, key=cv2.contourArea)\n",
    "x, y, w, h = cv2.boundingRect(c)\n",
    "cv2.rectangle(cont_img, (x, y), (x + w, y + h), (0, 0, 255), 5)\n",
    "plt.imshow(cont_img, \"gray\")"
   ]
  },
  {
   "cell_type": "code",
   "execution_count": null,
   "metadata": {},
   "outputs": [],
   "source": [
    "plt.imshow(cont_img)"
   ]
  }
 ],
 "metadata": {
  "kernelspec": {
   "display_name": "Python 3 (ipykernel)",
   "language": "python",
   "name": "python3"
  },
  "language_info": {
   "codemirror_mode": {
    "name": "ipython",
    "version": 3
   },
   "file_extension": ".py",
   "mimetype": "text/x-python",
   "name": "python",
   "nbconvert_exporter": "python",
   "pygments_lexer": "ipython3",
   "version": "3.9.12"
  },
  "vscode": {
   "interpreter": {
    "hash": "64576e52a064f75d394f2e9f6102f66bcba9c90a6ce4ba14024cedd889fcfc5b"
   }
  }
 },
 "nbformat": 4,
 "nbformat_minor": 4
}
