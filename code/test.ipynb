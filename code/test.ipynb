{
 "cells": [
  {
   "cell_type": "code",
   "execution_count": null,
   "metadata": {},
   "outputs": [],
   "source": [
    "from skimage import color\n",
    "from sklearn import metrics\n",
    "from sklearn.metrics import accuracy_score\n",
    "import matplotlib.pyplot as plt\n",
    "import numpy as np\n",
    "import pandas as pd\n",
    "import os\n",
    "import cv2"
   ]
  },
  {
   "cell_type": "code",
   "execution_count": null,
   "metadata": {},
   "outputs": [],
   "source": [
    "train_images = []\n",
    "train_labels = []\n",
    "shape = (300, 200)"
   ]
  },
  {
   "cell_type": "code",
   "execution_count": null,
   "metadata": {},
   "outputs": [],
   "source": [
    "train_path = (\n",
    "    \"/home/amirshnll/Projects/pythonProject/new_banknote_model/new_mony_categorical\"\n",
    ")"
   ]
  },
  {
   "cell_type": "code",
   "execution_count": null,
   "metadata": {},
   "outputs": [],
   "source": [
    "for filename in os.listdir(\n",
    "    \"/home/amirshnll/Projects/pythonProject/new_banknote_model/new_mony_categorical\"\n",
    "):\n",
    "    img = cv2.imread(os.path.join(train_path, filename))\n",
    "\n",
    "    # Splitting  file names and storing the labels for image in list\n",
    "    train_labels.append(\"-\".join(filename.split(\"_\")[1:4]))\n",
    "    # Resize all images to a specific shape\n",
    "    img = cv2.resize(img, shape)\n",
    "    RGB = (\n",
    "        np.mean(cv2.split(img)[0]),\n",
    "        np.mean(cv2.split(img)[1]),\n",
    "        np.mean(cv2.split(img)[2]),\n",
    "    )\n",
    "\n",
    "    hist = cv2.calcHist([img], [0, 1, 2], None, [8, 8, 8], [0, 256, 0, 256, 0, 256])\n",
    "    cv2.normalize(hist, hist)\n",
    "    histogram_features = hist.flatten()\n",
    "\n",
    "    grayImg = cv2.cvtColor(img, cv2.COLOR_BGR2GRAY)\n",
    "    hue_features = cv2.HuMoments(cv2.moments(grayImg)).flatten()\n",
    "\n",
    "    image_hsv = color.rgb2hsv(img)\n",
    "    HSV = (\n",
    "        np.mean(cv2.split(image_hsv)[0]),\n",
    "        np.mean(cv2.split(image_hsv)[1]),\n",
    "        np.mean(cv2.split(image_hsv)[2]),\n",
    "    )\n",
    "\n",
    "    image_lab = color.rgb2lab(img)\n",
    "    LAB = (\n",
    "        np.mean(cv2.split(image_lab)[0]),\n",
    "        np.mean(cv2.split(image_lab)[1]),\n",
    "        np.mean(cv2.split(image_lab)[2]),\n",
    "    )\n",
    "\n",
    "    train_images.append(np.hstack([hue_features, histogram_features, RGB, HSV, LAB]))"
   ]
  },
  {
   "cell_type": "code",
   "execution_count": null,
   "metadata": {},
   "outputs": [],
   "source": [
    "df = pd.DataFrame(train_labels)\n",
    "from sklearn.preprocessing import LabelEncoder, MinMaxScaler\n",
    "\n",
    "LE = LabelEncoder()\n",
    "y = LE.fit_transform(df)"
   ]
  },
  {
   "cell_type": "code",
   "execution_count": null,
   "metadata": {},
   "outputs": [],
   "source": [
    "for channel, col in enumerate((\"r\", \"g\", \"b\")):\n",
    "    hist = cv2.calcHist([img], [channel], None, [1000], [0, 256])\n",
    "    plt.plot(hist, color=col)"
   ]
  },
  {
   "cell_type": "code",
   "execution_count": null,
   "metadata": {},
   "outputs": [],
   "source": [
    "mms = MinMaxScaler()\n",
    "train_images = mms.fit_transform(train_images)"
   ]
  },
  {
   "cell_type": "code",
   "execution_count": null,
   "metadata": {},
   "outputs": [],
   "source": [
    "from sklearn.ensemble import RandomForestClassifier\n",
    "from sklearn.model_selection import train_test_split\n",
    "\n",
    "rfc_clf = RandomForestClassifier(n_estimators=500)\n",
    "\n",
    "with open(\"test_train_test_split.txt\", \"a\") as file:\n",
    "    for i in range(11, 31):\n",
    "        x_train, x_val, y_train, y_val = train_test_split(\n",
    "            train_images, y, random_state=1, test_size=(i / 100)\n",
    "        )\n",
    "        rfc_clf.fit(x_train, y_train)\n",
    "        p = rfc_clf.predict(x_val)\n",
    "        e = y_val\n",
    "        file.write(\"This accuracy is for {0} test size \\n\".format(i / 100))\n",
    "        file.write(metrics.classification_report(e, p))\n",
    "        file.write(\"\\n -----------------------------------\\n\")"
   ]
  },
  {
   "cell_type": "code",
   "execution_count": null,
   "metadata": {},
   "outputs": [],
   "source": [
    "from sklearn.model_selection import train_test_split\n",
    "\n",
    "train_images = np.array(train_images)\n",
    "x_train, x_val, y_train, y_val = train_test_split(\n",
    "    train_images, y, random_state=1, test_size=0.15\n",
    ")"
   ]
  },
  {
   "cell_type": "code",
   "execution_count": null,
   "metadata": {},
   "outputs": [],
   "source": [
    "from sklearn.ensemble import RandomForestClassifier\n",
    "\n",
    "with open(\"RandomForestClassifier.txt\", \"a\") as file:\n",
    "    for i in range(100, 3000):\n",
    "        rfc_clf = RandomForestClassifier(n_estimators=i)\n",
    "        rfc_clf.fit(x_train, y_train)\n",
    "        p = rfc_clf.predict(x_val)\n",
    "        e = y_val\n",
    "        file.write(\"This accuracy is for {0} n_estimators \\n\".format(i))\n",
    "        file.write(metrics.classification_report(e, p))\n",
    "        file.write(\"\\n -----------------------------------\\n\")"
   ]
  },
  {
   "cell_type": "code",
   "execution_count": null,
   "metadata": {},
   "outputs": [],
   "source": [
    "from sklearn.ensemble import RandomForestClassifier\n",
    "\n",
    "rfc_clf = RandomForestClassifier(n_estimators=400)\n",
    "rfc_clf.fit(x_train, y_train)"
   ]
  },
  {
   "cell_type": "code",
   "execution_count": null,
   "metadata": {},
   "outputs": [],
   "source": [
    "p = rfc_clf.predict(x_val)\n",
    "e = y_val"
   ]
  },
  {
   "cell_type": "code",
   "execution_count": null,
   "metadata": {},
   "outputs": [],
   "source": [
    "print(metrics.classification_report(e, p))"
   ]
  },
  {
   "cell_type": "code",
   "execution_count": null,
   "metadata": {},
   "outputs": [],
   "source": [
    "print(metrics.confusion_matrix(e, p))"
   ]
  },
  {
   "cell_type": "code",
   "execution_count": null,
   "metadata": {},
   "outputs": [],
   "source": [
    "from sklearn.ensemble import AdaBoostClassifier\n",
    "\n",
    "ada_clf = AdaBoostClassifier(n_estimators=1000)\n",
    "ada_clf.fit(x_train, y_train)"
   ]
  },
  {
   "cell_type": "code",
   "execution_count": null,
   "metadata": {},
   "outputs": [],
   "source": [
    "p = ada_clf.predict(x_val)\n",
    "e = y_val"
   ]
  },
  {
   "cell_type": "code",
   "execution_count": null,
   "metadata": {},
   "outputs": [],
   "source": [
    "print(metrics.classification_report(e, p))"
   ]
  },
  {
   "cell_type": "code",
   "execution_count": null,
   "metadata": {},
   "outputs": [],
   "source": [
    "print(metrics.confusion_matrix(e, p))"
   ]
  },
  {
   "cell_type": "code",
   "execution_count": null,
   "metadata": {},
   "outputs": [],
   "source": [
    "from sklearn.tree import DecisionTreeClassifier\n",
    "\n",
    "dtree = DecisionTreeClassifier()\n",
    "dtree.fit(x_train, y_train)"
   ]
  },
  {
   "cell_type": "code",
   "execution_count": null,
   "metadata": {},
   "outputs": [],
   "source": [
    "p = dtree.predict(x_val)\n",
    "e = y_val"
   ]
  },
  {
   "cell_type": "code",
   "execution_count": null,
   "metadata": {},
   "outputs": [],
   "source": [
    "print(metrics.classification_report(e, p))"
   ]
  },
  {
   "cell_type": "code",
   "execution_count": null,
   "metadata": {},
   "outputs": [],
   "source": [
    "from six import StringIO\n",
    "from IPython.display import Image\n",
    "from sklearn.tree import export_graphviz\n",
    "import pydotplus"
   ]
  },
  {
   "cell_type": "code",
   "execution_count": null,
   "metadata": {},
   "outputs": [],
   "source": [
    "dot_data = StringIO()\n",
    "export_graphviz(\n",
    "    rfc_clf, out_file=dot_data, filled=True, rounded=True, special_characters=True\n",
    ")\n",
    "graph = pydotplus.graph_from_dot_data(dot_data.getvalue())\n",
    "Image(graph.create_png())"
   ]
  },
  {
   "cell_type": "code",
   "execution_count": null,
   "metadata": {},
   "outputs": [],
   "source": [
    "import six\n",
    "import sys\n",
    "\n",
    "sys.modules[\"sklearn.externals.six\"] = six\n",
    "from id3 import Id3Estimator"
   ]
  },
  {
   "cell_type": "code",
   "execution_count": null,
   "metadata": {},
   "outputs": [],
   "source": [
    "classifier = Id3Estimator()\n",
    "classifier.fit(x_train, y_train)"
   ]
  },
  {
   "cell_type": "code",
   "execution_count": null,
   "metadata": {},
   "outputs": [],
   "source": [
    "p = classifier.predict(x_val)\n",
    "e = y_val"
   ]
  },
  {
   "cell_type": "code",
   "execution_count": null,
   "metadata": {},
   "outputs": [],
   "source": [
    "print(metrics.classification_report(e, p))"
   ]
  },
  {
   "cell_type": "code",
   "execution_count": null,
   "metadata": {},
   "outputs": [],
   "source": [
    "from IPython.display import Image\n",
    "from id3 import export_graphviz\n",
    "import pydot\n",
    "\n",
    "graph = export_graphviz(classifier.tree_, \"tree1.dot\", range(x_train.shape[1]))\n",
    "\n",
    "(graph,) = pydot.graph_from_dot_file(\"tree1.dot\")\n",
    "graph.write_png(\"tree1.png\")\n",
    "Image(filename=\"tree1.png\")"
   ]
  }
 ],
 "metadata": {
  "kernelspec": {
   "display_name": "Python 3.9.12 ('tf-gpu')",
   "language": "python",
   "name": "python3"
  },
  "language_info": {
   "codemirror_mode": {
    "name": "ipython",
    "version": 3
   },
   "file_extension": ".py",
   "mimetype": "text/x-python",
   "name": "python",
   "nbconvert_exporter": "python",
   "pygments_lexer": "ipython3",
   "version": "3.9.12"
  },
  "orig_nbformat": 4,
  "vscode": {
   "interpreter": {
    "hash": "64576e52a064f75d394f2e9f6102f66bcba9c90a6ce4ba14024cedd889fcfc5b"
   }
  }
 },
 "nbformat": 4,
 "nbformat_minor": 2
}
